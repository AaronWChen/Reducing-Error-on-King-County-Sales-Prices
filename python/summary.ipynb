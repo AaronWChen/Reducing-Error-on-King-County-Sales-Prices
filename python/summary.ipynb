{
 "nbformat": 4,
 "nbformat_minor": 2,
 "metadata": {
  "language_info": {
   "name": "python",
   "codemirror_mode": {
    "name": "ipython",
    "version": 3
   }
  },
  "orig_nbformat": 2,
  "file_extension": ".py",
  "mimetype": "text/x-python",
  "name": "python",
  "npconvert_exporter": "python",
  "pygments_lexer": "ipython3",
  "version": 3
 },
 "cells": [
  {
   "cell_type": "markdown",
   "execution_count": null,
   "metadata": {},
   "outputs": [],
   "source": [
    "# Building a Price Predictor on King County Real Estate Sales Data\n",
    "\n",
    "## Authors: \n",
    "### Aaron Washington Chen [GitHub](https://github.com/AaronWChen)\n",
    "### Dirk Van Curan [GitHub](https://github.com/dirkstrong1)"
   ]
  },
  {
   "cell_type": "markdown",
   "execution_count": null,
   "metadata": {},
   "outputs": [],
   "source": [
    "## Executive Summary\n",
    "\n",
    "This project aimed to make a price predictor based on real estate sales data in King County, WA from 2014-2015.\n",
    "\n",
    "From the results, we recommend using the simplest model (linear regression) until more data can be collected. Using a more sophisticated model (LassoCV) did not improve the results and showed that it was underfitting the data. Having more information would allow for more complex models to perform better.\n",
    "\n",
    "We can also see that factors with the most impact on price were living space square footage, distance from Bellevue (the most expensive region in the dataset), distance from Seattle, whether the property was on the waterfront, and the subjective quality of the view from the property.\n",
    "\n",
    "\n",
    "![Natural Log of Price vs Living Space Square Footage: there is a positive trend](ln_price_vs_sqft_living.png \"Natural Log of Price vs Living Space Square Footage\")\n",
    "![Natural Log of Price vs Distance from Belleuve: there is a negative trend](ln_price_vs_dist_from_bellevue.png \"Natural Log of Price vs Distance from Belleuve\")\n",
    "![Natural Log of Price vs Distance from Seattle: there is a positive trend](ln_price_vs_dist_from_seattle.png \"Natural Log of Price vs Distance from Seattle\")\n",
    "![Natural Log of Price vs Waterfront Presence: there is a positive trend but the properties with waterfront views started at a significantly higher price](ln_price_vs_water_weight.png \"Natural Log of Price vs Waterfront Presence\")\n",
    "![Natural Log of Price vs Subjective View Quality: there is a positive trend, but the properties with the baseline view quality started at a significantly lower price](ln_price_vs_view_weight.png \"Natural Log of Price vs Subjective View Quality\")"
   ]
  },
  {
   "cell_type": "markdown",
   "execution_count": null,
   "metadata": {},
   "outputs": [],
   "source": [
    "## Project Information\n",
    "\n",
    "This project uses partially processed King County Real Estate Sales data. It has been reduced to 1 year of sales and has been partially cleaned. This data is inside the `\"kc_house_data.csv\"` file in this repo.\n",
    "\n",
    "The description of the column names can be found in the column_names.md file in this repository. As with most real world data sets, the column names are not perfectly described, so you'll have to do some research or use your best judgment if you have questions relating to what the data means.\n",
    "\n",
    "This project was a good introduction to exploratory data analysis (EDA). The original deliverable used Jupyter Notebook files to perform all of the analysis, but these were refactored to Python 3 scripts with notebook files only used for presenting visualizations.\n",
    "\n",
    "\n",
    "## Improvements and Next Steps\n",
    "\n",
    "While it is possible to play with the data and try other, more complicated models on it, that does not seem to be a good use of time. Using LassoCV, while not complicated to implement, did not reveal any improvements in score or root mean square error (the two metrics used). \n",
    "\n",
    "Because the alpha coefficient for the LassoCV result was small (O(10^-4)), we believe that using a more complicated model would essentially give you back linear regression (the simplest model). Getting a larger dataset with more years of sales and more data columns would allow for more complex models to shine.\n",
    "\n",
    "\n",
    "## Technical Discussion\n",
    "### Key Questions\n",
    "Can property be purchased within a short commuting distance from Bellevue?\n",
    "\n",
    "How can companies based in Bellevue inform employees about possible residences in the area?\n",
    "\n",
    "What effect does being on the waterfront have upon price?\n",
    "\n",
    "\n",
    "### Approach\n",
    "We work according to Cross-industry standard process for data mining (CRISP-DM) prinicples to make and improve our model.\n",
    "\n",
    "Our approach to this model was to discover key variables that could help accurately determine sale price of a home in King County. Our first task was to see what sorts of questions we could answer to solve business problems with the raw data. Secondly, we cleaned the data, eliminated any features that did not help solve our business propositions and added any that gave better insight into what factors affected price. Once we had our initial model, we tweaked features to fit our model and proposed ways to augment the initial set of raw data. \n",
    "\n",
    "Our end goal was to minimize error, provide insights on what affected price, and develop a strategy around solving the business questions posed.\n",
    "\n",
    "\n",
    "### Running the Code\n",
    "If you are looking to run and/or work on this project yourself, you will need to:\n",
    "\n",
    "1. Install Python 3 (I prefer and recommend Anaconda)\n",
    "\n",
    "2. Clone [this repo](https://github.com/AaronWChen/Reducing-Error-on-King-County-Sales-Prices)\n",
    "\n",
    "3. Install the packages in the requirements.txt file via pip (pip install -r requirements.txt from command line)\n",
    "\n",
    "If you want to see the high level execution and results of the model, you can navigate to the python/ directory of this repo, open a Jupyter server there, and explore the noteoboks.\n",
    "\n",
    "If you are looking to make changes to the code, I recommend using Visual Studio Code to open the files and edit, with Jupyter Notebook files for easy visualization of the dataframes.\n"
   ]
  },
  {
   "cell_type": "code",
   "execution_count": null,
   "metadata": {},
   "outputs": [],
   "source": []
  }
 ]
}