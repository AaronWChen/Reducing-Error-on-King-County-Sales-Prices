{
 "cells": [
  {
   "cell_type": "markdown",
   "metadata": {},
   "source": [
    "## Final Project Submission\n",
    "\n",
    "Please fill out:\n",
    "* Student name: Dirk Van Curan\n",
    "* Student pace: Full time\n",
    "* Scheduled project review date/time:  August 23, 2019 9:30 am\n",
    "* Instructor name: Cristian\n",
    "* Blog post URL:\n"
   ]
  },
  {
   "cell_type": "code",
   "execution_count": null,
   "metadata": {},
   "outputs": [],
   "source": [
    "# Your code here - remember to use markdown cells for comments as well!"
   ]
  },
  {
   "cell_type": "code",
   "execution_count": null,
   "metadata": {},
   "outputs": [],
   "source": [
    "\"\"\"This file contains some in progress code on our Mod 1 project.\n",
    "In this project, we are given real estate sales data from King\n",
    "County in Seattle, and we are asked to make a predictor for price.\"\"\""
   ]
  },
  {
   "cell_type": "code",
   "execution_count": 1,
   "metadata": {},
   "outputs": [],
   "source": [
    "# import modules needed for data analysis and get them ready for use in the notebook\n",
    "import pandas as pd\n",
    "import numpy as np\n",
    "import matplotlib.pyplot as plt\n",
    "%matplotlib inline\n",
    "from sklearn.preprocessing import OneHotEncoder\n",
    "import statsmodels.api as sm\n",
    "from sklearn.preprocessing import StandardScaler\n",
    "from sklearn.linear_model import LinearRegression\n",
    "from sklearn.model_selection import train_test_split\n",
    "import sklearn.metrics as metrics"
   ]
  },
  {
   "cell_type": "code",
   "execution_count": 2,
   "metadata": {},
   "outputs": [],
   "source": [
    "# import the given data and store it in a pandas DataFrame\n",
    "raw_data = pd.read_csv(\"kc_house_data.csv\")"
   ]
  },
  {
   "cell_type": "markdown",
   "metadata": {},
   "source": [
    "## Initial exploration of what the data looks like"
   ]
  },
  {
   "cell_type": "code",
   "execution_count": null,
   "metadata": {},
   "outputs": [],
   "source": [
    "raw_data.shape"
   ]
  },
  {
   "cell_type": "code",
   "execution_count": null,
   "metadata": {},
   "outputs": [],
   "source": [
    "raw_data.head(20).T"
   ]
  },
  {
   "cell_type": "code",
   "execution_count": null,
   "metadata": {},
   "outputs": [],
   "source": [
    "raw_data.info()"
   ]
  },
  {
   "cell_type": "markdown",
   "metadata": {},
   "source": [
    "## Decided to use only the zipcodes of each sale as a initial model"
   ]
  },
  {
   "cell_type": "code",
   "execution_count": 3,
   "metadata": {},
   "outputs": [],
   "source": [
    "# Convert the zipcodes to an array of One Hot values instead of a column of integers\n",
    "# Zipcodes are not really useful as integers since they are actually categorical \n",
    "# values and being in a zipcode or not is more helpful for the model\n",
    "ohe = OneHotEncoder(drop='first', categories='auto') "
   ]
  },
  {
   "cell_type": "code",
   "execution_count": 4,
   "metadata": {},
   "outputs": [],
   "source": [
    "price_zip_trans = ohe.fit_transform(raw_data['zipcode'].values.reshape(-1,1))"
   ]
  },
  {
   "cell_type": "code",
   "execution_count": 5,
   "metadata": {},
   "outputs": [
    {
     "data": {
      "text/plain": [
       "array(['x0_98002', 'x0_98003', 'x0_98004', 'x0_98005', 'x0_98006',\n",
       "       'x0_98007', 'x0_98008', 'x0_98010', 'x0_98011', 'x0_98014',\n",
       "       'x0_98019', 'x0_98022', 'x0_98023', 'x0_98024', 'x0_98027',\n",
       "       'x0_98028', 'x0_98029', 'x0_98030', 'x0_98031', 'x0_98032',\n",
       "       'x0_98033', 'x0_98034', 'x0_98038', 'x0_98039', 'x0_98040',\n",
       "       'x0_98042', 'x0_98045', 'x0_98052', 'x0_98053', 'x0_98055',\n",
       "       'x0_98056', 'x0_98058', 'x0_98059', 'x0_98065', 'x0_98070',\n",
       "       'x0_98072', 'x0_98074', 'x0_98075', 'x0_98077', 'x0_98092',\n",
       "       'x0_98102', 'x0_98103', 'x0_98105', 'x0_98106', 'x0_98107',\n",
       "       'x0_98108', 'x0_98109', 'x0_98112', 'x0_98115', 'x0_98116',\n",
       "       'x0_98117', 'x0_98118', 'x0_98119', 'x0_98122', 'x0_98125',\n",
       "       'x0_98126', 'x0_98133', 'x0_98136', 'x0_98144', 'x0_98146',\n",
       "       'x0_98148', 'x0_98155', 'x0_98166', 'x0_98168', 'x0_98177',\n",
       "       'x0_98178', 'x0_98188', 'x0_98198', 'x0_98199'], dtype=object)"
      ]
     },
     "execution_count": 5,
     "metadata": {},
     "output_type": "execute_result"
    }
   ],
   "source": [
    "ohe.get_feature_names()"
   ]
  },
  {
   "cell_type": "code",
   "execution_count": 6,
   "metadata": {},
   "outputs": [],
   "source": [
    "# this takes the One Hot encoded array and makes a new sparse DataFrame\n",
    "# the column names are the zipcodes and the values are Boolean 1s or 0s\n",
    "# depending on if the sale happened in that zipcode\n",
    "zip_sparce = pd.DataFrame(price_zip_trans.todense(), columns=ohe.get_feature_names())"
   ]
  },
  {
   "cell_type": "code",
   "execution_count": 7,
   "metadata": {},
   "outputs": [],
   "source": [
    "# adding the sale prices as a new column to the sparse array so that it can be\n",
    "# used in a model\n",
    "zip_sparce['price'] = raw_data['price']"
   ]
  },
  {
   "cell_type": "code",
   "execution_count": 8,
   "metadata": {},
   "outputs": [
    {
     "data": {
      "text/plain": [
       "price       1.000000\n",
       "x0_98004    0.271184\n",
       "x0_98039    0.212561\n",
       "x0_98040    0.204952\n",
       "x0_98112    0.169957\n",
       "x0_98006    0.133677\n",
       "x0_98033    0.102551\n",
       "x0_98105    0.091003\n",
       "x0_98075    0.088634\n",
       "x0_98199    0.083688\n",
       "x0_98119    0.078077\n",
       "x0_98102    0.068037\n",
       "x0_98109    0.065875\n",
       "x0_98005    0.065075\n",
       "x0_98074    0.057136\n",
       "x0_98053    0.051394\n",
       "x0_98052    0.047205\n",
       "x0_98177    0.040503\n",
       "x0_98077    0.037336\n",
       "x0_98115    0.036113\n",
       "x0_98008    0.033039\n",
       "x0_98122    0.029935\n",
       "x0_98027    0.029138\n",
       "x0_98116    0.026584\n",
       "x0_98029    0.024190\n",
       "x0_98103    0.020628\n",
       "x0_98144    0.018815\n",
       "x0_98007    0.016982\n",
       "x0_98117    0.016123\n",
       "x0_98107    0.011798\n",
       "              ...   \n",
       "x0_98166   -0.022561\n",
       "x0_98028   -0.024406\n",
       "x0_98125   -0.026613\n",
       "x0_98045   -0.027633\n",
       "x0_98019   -0.029616\n",
       "x0_98148   -0.035762\n",
       "x0_98126   -0.040609\n",
       "x0_98056   -0.044989\n",
       "x0_98155   -0.046074\n",
       "x0_98108   -0.046840\n",
       "x0_98118   -0.051608\n",
       "x0_98188   -0.054438\n",
       "x0_98146   -0.057217\n",
       "x0_98032   -0.060024\n",
       "x0_98022   -0.063552\n",
       "x0_98133   -0.063775\n",
       "x0_98178   -0.069286\n",
       "x0_98092   -0.071858\n",
       "x0_98055   -0.072022\n",
       "x0_98030   -0.072779\n",
       "x0_98031   -0.073907\n",
       "x0_98198   -0.074064\n",
       "x0_98058   -0.074548\n",
       "x0_98106   -0.075416\n",
       "x0_98003   -0.076804\n",
       "x0_98038   -0.078947\n",
       "x0_98002   -0.080332\n",
       "x0_98168   -0.091703\n",
       "x0_98042   -0.100363\n",
       "x0_98023   -0.106147\n",
       "Name: price, Length: 70, dtype: float64"
      ]
     },
     "execution_count": 8,
     "metadata": {},
     "output_type": "execute_result"
    }
   ],
   "source": [
    "# initial examination of correlation between price and zipcode\n",
    "zip_sparce.corr()['price'].sort_values(ascending=False)"
   ]
  },
  {
   "cell_type": "code",
   "execution_count": null,
   "metadata": {},
   "outputs": [],
   "source": [
    "price_array = np.asarray(zip_sparce['price'])\n",
    "\n",
    "price_array"
   ]
  },
  {
   "cell_type": "code",
   "execution_count": 9,
   "metadata": {},
   "outputs": [
    {
     "data": {
      "image/png": "[encoded data removed]",
      "text/plain": [
       "<Figure size 1728x216 with 2 Axes>"
      ]
     },
     "metadata": {},
     "output_type": "display_data"
    }
   ],
   "source": [
    "import seaborn as sns\n",
    "sns.set(rc={'figure.figsize':(24,3)})\n",
    "sns.heatmap(zip_sparce.corr().loc[['price']],vmax=0.3);"
   ]
  },
  {
   "cell_type": "markdown",
   "metadata": {},
   "source": [
    "## Begin doing linear regression"
   ]
  },
  {
   "cell_type": "code",
   "execution_count": null,
   "metadata": {},
   "outputs": [],
   "source": [
    "# Choose our predictors for the model\n",
    "X = zip_sparce.drop('price', axis=1)\n",
    "y = zip_sparce['price']\n",
    "X.info()"
   ]
  },
  {
   "cell_type": "code",
   "execution_count": null,
   "metadata": {},
   "outputs": [],
   "source": [
    "# Initial rough model for exploration\n",
    "predictors = sm.add_constant(X)\n",
    "model = sm.OLS(y, predictors).fit()\n",
    "model.summary()"
   ]
  },
  {
   "cell_type": "markdown",
   "metadata": {},
   "source": [
    "## Try with improved modeling (not StatsModels)"
   ]
  },
  {
   "cell_type": "code",
   "execution_count": 10,
   "metadata": {},
   "outputs": [],
   "source": [
    "X_train, X_test, y_train, y_test = train_test_split(zip_sparce.drop('price', axis=1), \n",
    "                                                    zip_sparce['price'],\n",
    "                                                   random_state=42)"
   ]
  },
  {
   "cell_type": "code",
   "execution_count": 11,
   "metadata": {},
   "outputs": [],
   "source": [
    "# Let's create a StandardScaler object to scale our data for us.\n",
    "ss = StandardScaler()\n",
    "\n",
    "# Now we'll apply it to our data by using the .fit() and transform() methods.\n",
    "ss.fit(X_train)\n",
    "X_train_sc = ss.transform(X_train)\n",
    "X_test_sc = ss.transform(X_test)\n"
   ]
  },
  {
   "cell_type": "code",
   "execution_count": 12,
   "metadata": {},
   "outputs": [
    {
     "data": {
      "text/plain": [
       "LinearRegression(copy_X=True, fit_intercept=True, n_jobs=None, normalize=False)"
      ]
     },
     "execution_count": 12,
     "metadata": {},
     "output_type": "execute_result"
    }
   ],
   "source": [
    "# Now we can fit a LinearRegression object to our training data!\n",
    "\n",
    "lr = LinearRegression()\n",
    "lr.fit(X_train_sc, y_train)"
   ]
  },
  {
   "cell_type": "code",
   "execution_count": 13,
   "metadata": {},
   "outputs": [
    {
     "data": {
      "text/plain": [
       "0.387591458202281"
      ]
     },
     "execution_count": 13,
     "metadata": {},
     "output_type": "execute_result"
    }
   ],
   "source": [
    "lr.score(X_test_sc, y_test)\n"
   ]
  },
  {
   "cell_type": "code",
   "execution_count": 14,
   "metadata": {},
   "outputs": [
    {
     "data": {
      "text/plain": [
       "array([-4.82349229e+03,  1.15698571e+03,  1.21150874e+05,  4.60340682e+04,\n",
       "        8.21855411e+04,  2.64102671e+04,  4.15911916e+04,  9.24496418e+03,\n",
       "        1.95015371e+04,  1.33166767e+04,  1.30951930e+04,  2.39638452e+03,\n",
       "       -1.35963760e+01,  2.01585401e+04,  4.56544890e+04,  1.94666322e+04,\n",
       "        3.92879898e+04,  9.21839732e+02,  1.97443586e+03, -2.28443088e+03,\n",
       "        7.06854182e+04,  3.77822871e+04,  1.22570994e+04,  9.46133986e+04,\n",
       "        1.06955518e+05,  3.78342183e+03,  1.56209281e+04,  5.73225296e+04,\n",
       "        5.25296800e+04,  2.14425934e+03,  1.76420091e+04,  8.94183110e+03,\n",
       "        3.07107054e+04,  2.99727665e+04,  1.48846672e+04,  3.11342276e+04,\n",
       "        5.54421314e+04,  6.71899854e+04,  3.97221582e+04,  5.58357306e+03,\n",
       "        4.42408192e+04,  5.04810970e+04,  6.23634700e+04,  4.24423214e+03,\n",
       "        3.10516574e+04,  6.85256710e+03,  4.18216413e+04,  9.48366762e+04,\n",
       "        5.36896720e+04,  3.99097948e+04,  4.65757913e+04,  1.98803644e+04,\n",
       "        5.46941423e+04,  4.09757049e+04,  2.61301461e+04,  1.70980157e+04,\n",
       "        1.55977362e+04,  2.92909966e+04,  3.75142564e+04,  8.14223490e+03,\n",
       "        1.24732700e+02,  1.89904971e+04,  1.96318595e+04, -4.92462010e+03,\n",
       "        4.03801782e+04,  3.35225210e+03,  5.75846858e+02,  1.19789913e+03,\n",
       "        6.04177450e+04])"
      ]
     },
     "execution_count": 14,
     "metadata": {},
     "output_type": "execute_result"
    }
   ],
   "source": [
    "# We can use the .coef_ attribute to recover the results\n",
    "# of the regression.\n",
    "\n",
    "lr.coef_"
   ]
  },
  {
   "cell_type": "code",
   "execution_count": 15,
   "metadata": {},
   "outputs": [
    {
     "data": {
      "text/plain": [
       "541284.4615669568"
      ]
     },
     "execution_count": 15,
     "metadata": {},
     "output_type": "execute_result"
    }
   ],
   "source": [
    "# And .intercept_\n",
    "\n",
    "lr.intercept_"
   ]
  },
  {
   "cell_type": "code",
   "execution_count": 16,
   "metadata": {},
   "outputs": [
    {
     "data": {
      "text/plain": [
       "Index(['x0_98002', 'x0_98003', 'x0_98004', 'x0_98005', 'x0_98006', 'x0_98007',\n",
       "       'x0_98008', 'x0_98010', 'x0_98011', 'x0_98014', 'x0_98019', 'x0_98022',\n",
       "       'x0_98023', 'x0_98024', 'x0_98027', 'x0_98028', 'x0_98029', 'x0_98030',\n",
       "       'x0_98031', 'x0_98032', 'x0_98033', 'x0_98034', 'x0_98038', 'x0_98039',\n",
       "       'x0_98040', 'x0_98042', 'x0_98045', 'x0_98052', 'x0_98053', 'x0_98055',\n",
       "       'x0_98056', 'x0_98058', 'x0_98059', 'x0_98065', 'x0_98070', 'x0_98072',\n",
       "       'x0_98074', 'x0_98075', 'x0_98077', 'x0_98092', 'x0_98102', 'x0_98103',\n",
       "       'x0_98105', 'x0_98106', 'x0_98107', 'x0_98108', 'x0_98109', 'x0_98112',\n",
       "       'x0_98115', 'x0_98116', 'x0_98117', 'x0_98118', 'x0_98119', 'x0_98122',\n",
       "       'x0_98125', 'x0_98126', 'x0_98133', 'x0_98136', 'x0_98144', 'x0_98146',\n",
       "       'x0_98148', 'x0_98155', 'x0_98166', 'x0_98168', 'x0_98177', 'x0_98178',\n",
       "       'x0_98188', 'x0_98198', 'x0_98199'],\n",
       "      dtype='object')"
      ]
     },
     "execution_count": 16,
     "metadata": {},
     "output_type": "execute_result"
    }
   ],
   "source": [
    "X_train.columns"
   ]
  },
  {
   "cell_type": "code",
   "execution_count": null,
   "metadata": {},
   "outputs": [],
   "source": []
  }
 ],
 "metadata": {
  "kernelspec": {
   "display_name": "Python [conda env:learn-env] *",
   "language": "python",
   "name": "conda-env-learn-env-py"
  },
  "language_info": {
   "codemirror_mode": {
    "name": "ipython",
    "version": 3
   },
   "file_extension": ".py",
   "mimetype": "text/x-python",
   "name": "python",
   "nbconvert_exporter": "python",
   "pygments_lexer": "ipython3",
   "version": "3.6.6"
  }
 },
 "nbformat": 4,
 "nbformat_minor": 2
}
